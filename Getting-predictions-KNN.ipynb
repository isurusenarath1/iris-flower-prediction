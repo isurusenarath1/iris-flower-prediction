{
 "cells": [
  {
   "cell_type": "code",
   "execution_count": 1,
   "id": "d2aeac32-aca7-4fcb-9033-a71271342a92",
   "metadata": {},
   "outputs": [],
   "source": [
    "#import tained model\n",
    "import joblib\n",
    "\n",
    "model=joblib.load('KNN-iris-trained-model.sav')"
   ]
  },
  {
   "cell_type": "code",
   "execution_count": 2,
   "id": "46c05960-1355-4722-ad19-eaec1897c32f",
   "metadata": {},
   "outputs": [
    {
     "name": "stdout",
     "output_type": "stream",
     "text": [
      "[1.]\n"
     ]
    }
   ],
   "source": [
    "#Get Predictions\n",
    "test_data=[[0.4,2.1,5.1,2.2]]\n",
    "\n",
    "result=model.predict(test_data)\n",
    "print(result)"
   ]
  },
  {
   "cell_type": "code",
   "execution_count": null,
   "id": "f1316c29-c90b-46bd-80a9-a53f4f1f40a5",
   "metadata": {},
   "outputs": [],
   "source": []
  }
 ],
 "metadata": {
  "kernelspec": {
   "display_name": "Python [conda env:base] *",
   "language": "python",
   "name": "conda-base-py"
  },
  "language_info": {
   "codemirror_mode": {
    "name": "ipython",
    "version": 3
   },
   "file_extension": ".py",
   "mimetype": "text/x-python",
   "name": "python",
   "nbconvert_exporter": "python",
   "pygments_lexer": "ipython3",
   "version": "3.13.5"
  }
 },
 "nbformat": 4,
 "nbformat_minor": 5
}
